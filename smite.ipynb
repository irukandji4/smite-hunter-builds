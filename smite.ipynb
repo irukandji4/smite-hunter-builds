{
 "cells": [
  {
   "cell_type": "code",
   "execution_count": null,
   "metadata": {},
   "outputs": [],
   "source": [
    "%load_ext autoreload\n",
    "%autoreload 1\n",
    "%aimport smite\n",
    "%aimport item\n",
    "squishy = smite.squishy\n",
    "smite = smite.Smite()"
   ]
  },
  {
   "cell_type": "markdown",
   "metadata": {},
   "source": [
    "smite.get_credentials()\n",
    "smite.create_session()\n",
    "smite.save_items_to_file()\n",
    "smite.save_gods_to_file()\n",
    "smite.ping().text"
   ]
  },
  {
   "cell_type": "code",
   "execution_count": null,
   "metadata": {},
   "outputs": [],
   "source": [
    "smite.read_items_from_file()\n",
    "smite.read_gods_from_file()\n",
    "smite.get_items_raw()\n",
    "smite.get_avg_hunter_stats()\n",
    "smite.get_items()"
   ]
  },
  {
   "cell_type": "code",
   "execution_count": null,
   "metadata": {},
   "outputs": [],
   "source": [
    "smite.items_raw['Asi']"
   ]
  },
  {
   "cell_type": "code",
   "execution_count": null,
   "metadata": {},
   "outputs": [],
   "source": [
    "smite.print_passives()"
   ]
  },
  {
   "cell_type": "code",
   "execution_count": null,
   "metadata": {},
   "outputs": [],
   "source": [
    "smite.print_stat_descs()"
   ]
  },
  {
   "cell_type": "code",
   "execution_count": null,
   "metadata": {},
   "outputs": [],
   "source": [
    "x = smite.get_builds(squishy, ['Shadowsteel Shuriken', 'Asi'])\n",
    "x = sorted(x.items(), key=lambda x: x[0], reverse=True)"
   ]
  },
  {
   "cell_type": "code",
   "execution_count": null,
   "metadata": {},
   "outputs": [],
   "source": [
    "x"
   ]
  }
 ],
 "metadata": {
  "interpreter": {
   "hash": "a67c81d5cef3ce37920a30950ac1c642364ff5ef93de86c09ef3fa88ec8b46e0"
  },
  "kernelspec": {
   "display_name": "Python 3 (ipykernel)",
   "language": "python",
   "name": "python3"
  },
  "language_info": {
   "codemirror_mode": {
    "name": "ipython",
    "version": 3
   },
   "file_extension": ".py",
   "mimetype": "text/x-python",
   "name": "python",
   "nbconvert_exporter": "python",
   "pygments_lexer": "ipython3",
   "version": "3.10.0"
  }
 },
 "nbformat": 4,
 "nbformat_minor": 2
}
